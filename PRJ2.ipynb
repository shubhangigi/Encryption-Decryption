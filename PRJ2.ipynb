{
 "cells": [
  {
   "cell_type": "code",
   "execution_count": 9,
   "id": "5729f798-cdf6-4ae0-ab39-150f3cdc6d4d",
   "metadata": {},
   "outputs": [
    {
     "name": "stdin",
     "output_type": "stream",
     "text": [
      "Enter the path to the file you want to encrypt:  C:\\Users\\shubh\\OneDrive\\Desktop\\priyanshi prj2 project\\audio.mp3\n"
     ]
    },
    {
     "name": "stdout",
     "output_type": "stream",
     "text": [
      "File encrypted and saved to: C:\\Users\\shubh\\OneDrive\\Desktop\\priyanshi prj2 project\\audio.mp3\n",
      "Encryption key saved to: encryption_key.txt\n"
     ]
    }
   ],
   "source": [
    "from cryptography.fernet import Fernet\n",
    "import os  # Import the os module\n",
    "\n",
    "def generate_encryption_key():\n",
    "\n",
    "    \n",
    "  return Fernet.generate_key()\n",
    "\n",
    "def encrypt_file(key, file_path, output_path):\n",
    "  fernet = Fernet(key)\n",
    "  try:\n",
    "    with open(file_path, 'rb') as file:\n",
    "      # Read the original data\n",
    "      data = file.read()\n",
    "      encrypted_data = fernet.encrypt(data)\n",
    "    with open(output_path, 'wb') as encrypted_file:\n",
    "      encrypted_file.write(encrypted_data)  # Write encrypted data to new location\n",
    "      print(f\"File encrypted and saved to: {output_path}\")\n",
    "  except Exception as e:\n",
    "    print(\"Error:\", e)\n",
    "\n",
    "\n",
    "file_path = input(\"Enter the path to the file you want to encrypt: \")\n",
    "\n",
    "\n",
    "output_path = os.path.join(os.path.dirname(file_path), os.path.basename(file_path))  # Add \".encrypted\" extension\n",
    "\n",
    "# Encryption\n",
    "encrypt_file(key, file_path, output_path)\n",
    "\n",
    "# Save the key securely (don't print it)\n",
    "with open('encryption_key.txt', 'wb') as key_file:\n",
    "  key_file.write(key)\n",
    "  print(\"Encryption key saved to: encryption_key.txt\")\n"
   ]
  },
  {
   "cell_type": "code",
   "execution_count": 10,
   "id": "a3a77767-d6f0-4bbc-8a59-41b44a6b731d",
   "metadata": {},
   "outputs": [
    {
     "name": "stdin",
     "output_type": "stream",
     "text": [
      "Enter the path to the encrypted file you want to decrypt:  C:\\Users\\shubh\\OneDrive\\Desktop\\priyanshi prj2 project\\audio.mp3\n"
     ]
    },
    {
     "name": "stdout",
     "output_type": "stream",
     "text": [
      "File decrypted successfully and saved to: C:\\Users\\shubh\\OneDrive\\Desktop\\priyanshi prj2 project\\audio.mp3\n",
      "File decrypted successfully and saved to: C:\\Users\\shubh\\OneDrive\\Desktop\\priyanshi prj2 project\\audio.mp3\n"
     ]
    }
   ],
   "source": [
    "from cryptography.fernet import Fernet, InvalidToken\n",
    "import os\n",
    "\n",
    "def load_key(key_file_path):\n",
    "  \n",
    "  try:\n",
    "    with open(key_file_path, 'rb') as key_file:\n",
    "      key = key_file.read()\n",
    "      return key\n",
    "  except FileNotFoundError:\n",
    "    print(\"Encryption key file not found. Please generate the key first using encryption code.\")\n",
    "    exit(1)\n",
    "\n",
    "def decrypt_file(key, file_path, output_path):\n",
    "  \n",
    "  fernet = Fernet(key)\n",
    "  try:\n",
    "    with open(file_path, 'rb') as file:\n",
    "      # Read the encrypted data\n",
    "      data = file.read()\n",
    "      decrypted_data = fernet.decrypt(data)\n",
    "    if output_path:  # Check if output path is provided\n",
    "      with open(output_path, 'wb') as decrypted_file:\n",
    "        decrypted_file.write(decrypted_data)  # Write decrypted data to new location\n",
    "        print(f\"File decrypted successfully and saved to: {output_path}\")\n",
    "  except InvalidToken:\n",
    "    print(\"Decryption failed due to invalid token. Please ensure you have the correct key.\")\n",
    "  except Exception as e:\n",
    "    print(\"Error during decryption:\", e)\n",
    "\n",
    "# Load the key from the secure file (replace with your actual path)\n",
    "key_file_path = 'encryption_key.txt'  # Adjust path if needed\n",
    "\n",
    "# Check if key file exists\n",
    "if not os.path.exists(key_file_path):\n",
    "  print(\"Encryption key file not found. Please generate the key first using encryption code.\")\n",
    "  exit(1)\n",
    "\n",
    "# Load the key\n",
    "encryption_key = load_key(key_file_path)\n",
    "\n",
    "# User input for file path\n",
    "file_path = input(\"Enter the path to the encrypted file you want to decrypt: \")\n",
    "\n",
    "# Create output path with \"_decrypted\" suffix and same extension\n",
    "output_path = os.path.splitext(file_path)[0] + os.path.splitext(file_path)[1]\n",
    "\n",
    "# Decryption with specifying output path\n",
    "decrypt_file(encryption_key, file_path, output_path)\n",
    "\n",
    "print(f\"File decrypted successfully and saved to: {output_path}\")\n"
   ]
  },
  {
   "cell_type": "code",
   "execution_count": null,
   "id": "4265c11f-558d-4398-9810-6eb540c23e1d",
   "metadata": {},
   "outputs": [],
   "source": []
  }
 ],
 "metadata": {
  "kernelspec": {
   "display_name": "Python 3 (ipykernel)",
   "language": "python",
   "name": "python3"
  },
  "language_info": {
   "codemirror_mode": {
    "name": "ipython",
    "version": 3
   },
   "file_extension": ".py",
   "mimetype": "text/x-python",
   "name": "python",
   "nbconvert_exporter": "python",
   "pygments_lexer": "ipython3",
   "version": "3.11.7"
  }
 },
 "nbformat": 4,
 "nbformat_minor": 5
}
